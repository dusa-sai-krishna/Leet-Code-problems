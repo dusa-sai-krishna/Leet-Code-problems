{
 "cells": [
  {
   "cell_type": "code",
   "execution_count": 1,
   "metadata": {},
   "outputs": [],
   "source": [
    "class Node:\n",
    "    def __init__(self,value):\n",
    "        self.value=value\n",
    "        self.next=next"
   ]
  },
  {
   "cell_type": "markdown",
   "metadata": {},
   "source": [
    "# Remove nodes which contain value == k"
   ]
  },
  {
   "cell_type": "code",
   "execution_count": 3,
   "metadata": {},
   "outputs": [],
   "source": [
    "def remove_node_k(head,x):\n",
    "    #create a dummy node\n",
    "    dummy=Node(0)\n",
    "    dummy.next=head\n",
    "    curr=head\n",
    "    left=dummy\n",
    "    while curr is not None:    \n",
    "        if curr.value==x:\n",
    "            left.next=curr.next\n",
    "        left=left.next\n",
    "        curr=left.next.next\n",
    "    return dummy.next\n",
    "\n",
    "\n",
    "\n",
    "def remove_node_k2(head,x):\n",
    "    left,curr=None,head\n",
    "    while curr is not None:\n",
    "        if curr.value==x:\n",
    "            #if curr is head\n",
    "            if left==None:\n",
    "                head=curr.next\n",
    "                left=curr\n",
    "            elif curr.next is None:\n",
    "                left.next=None\n",
    "            else:\n",
    "                left.next=curr.next\n",
    "        curr=curr.next\n",
    "    return head\n",
    "        \n",
    "        "
   ]
  },
  {
   "cell_type": "code",
   "execution_count": null,
   "metadata": {},
   "outputs": [],
   "source": []
  }
 ],
 "metadata": {
  "kernelspec": {
   "display_name": "base",
   "language": "python",
   "name": "python3"
  },
  "language_info": {
   "codemirror_mode": {
    "name": "ipython",
    "version": 3
   },
   "file_extension": ".py",
   "mimetype": "text/x-python",
   "name": "python",
   "nbconvert_exporter": "python",
   "pygments_lexer": "ipython3",
   "version": "3.9.18"
  }
 },
 "nbformat": 4,
 "nbformat_minor": 2
}
