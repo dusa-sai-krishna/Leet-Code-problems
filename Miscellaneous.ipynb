{
 "cells": [
  {
   "cell_type": "markdown",
   "metadata": {},
   "source": [
    "# # Find the max sum of two digits in a array which don't contain common digits"
   ]
  },
  {
   "cell_type": "code",
   "execution_count": 2,
   "metadata": {},
   "outputs": [],
   "source": [
    "def non_duplicate_sum(arr):\n",
    "    max_sum=-1\n",
    "    for i in range(len(arr)-1):\n",
    "        x=set(str(arr[i]))\n",
    "        for j  in range(i+1,len(arr)):\n",
    "            y=set(str(arr[j]))\n",
    "            print(x,y,x.intersection(y))\n",
    "            if len(x.intersection(y))==0:\n",
    "                max_sum=max(max_sum,arr[i]+arr[j])\n",
    "    return max_sum\n",
    "            "
   ]
  },
  {
   "cell_type": "code",
   "execution_count": 3,
   "metadata": {},
   "outputs": [
    {
     "name": "stdout",
     "output_type": "stream",
     "text": [
      "{'3', '5'} {'1'} set()\n",
      "{'3', '5'} {'3', '6'} {'3'}\n",
      "{'3', '5'} {'1', '0', '3'} {'3'}\n",
      "{'3', '5'} {'3', '5'} {'3', '5'}\n",
      "{'3', '5'} {'5'} {'5'}\n",
      "{'1'} {'3', '6'} set()\n",
      "{'1'} {'1', '0', '3'} {'1'}\n",
      "{'1'} {'3', '5'} set()\n",
      "{'1'} {'5'} set()\n",
      "{'3', '6'} {'1', '0', '3'} {'3'}\n",
      "{'3', '6'} {'3', '5'} {'3'}\n",
      "{'3', '6'} {'5'} set()\n",
      "{'1', '0', '3'} {'3', '5'} {'3'}\n",
      "{'1', '0', '3'} {'5'} set()\n",
      "{'3', '5'} {'5'} {'5'}\n"
     ]
    },
    {
     "data": {
      "text/plain": [
       "108"
      ]
     },
     "execution_count": 3,
     "metadata": {},
     "output_type": "execute_result"
    }
   ],
   "source": [
    "arr=[53,1,36,103,53,5]\n",
    "non_duplicate_sum(arr)"
   ]
  },
  {
   "cell_type": "code",
   "execution_count": null,
   "metadata": {},
   "outputs": [],
   "source": []
  },
  {
   "cell_type": "code",
   "execution_count": null,
   "metadata": {},
   "outputs": [],
   "source": []
  },
  {
   "cell_type": "code",
   "execution_count": null,
   "metadata": {},
   "outputs": [],
   "source": []
  }
 ],
 "metadata": {
  "kernelspec": {
   "display_name": "base",
   "language": "python",
   "name": "python3"
  },
  "language_info": {
   "codemirror_mode": {
    "name": "ipython",
    "version": 3
   },
   "file_extension": ".py",
   "mimetype": "text/x-python",
   "name": "python",
   "nbconvert_exporter": "python",
   "pygments_lexer": "ipython3",
   "version": "3.9.18"
  }
 },
 "nbformat": 4,
 "nbformat_minor": 2
}
